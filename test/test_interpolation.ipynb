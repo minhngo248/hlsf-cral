{
 "cells": [
  {
   "cell_type": "code",
   "execution_count": 71,
   "metadata": {},
   "outputs": [],
   "source": [
    "import numpy as np\n",
    "import matplotlib.pyplot as plt\n",
    "from hlsf.models import LSF_DATA\n",
    "from scipy.interpolate import bisplev, bisplrep\n",
    "%matplotlib qt"
   ]
  },
  {
   "cell_type": "code",
   "execution_count": 72,
   "metadata": {},
   "outputs": [],
   "source": [
    "config = 'HK'\n",
    "lamp = 'Ne'"
   ]
  },
  {
   "cell_type": "code",
   "execution_count": 73,
   "metadata": {},
   "outputs": [
    {
     "data": {
      "text/plain": [
       "dict_keys([334, 335, 351, 355, 356, 357, 358, 359, 360, 361, 362, 363, 364, 365, 371, 372, 373, 378])"
      ]
     },
     "execution_count": 73,
     "metadata": {},
     "output_type": "execute_result"
    }
   ],
   "source": [
    "lsf_data = LSF_DATA(f\"../exposures/ARC-{lamp}_CLEAR_20MAS_{config}_PRM.fits\", f\"../text/{lamp}.txt\", f\"../exposures/WAVECAL_TABLE_20MAS_{config}.fits\", \n",
    "                        f\"../exposures/SLITLET_TABLE_20MAS_{config}.fits\", slice=0, normal=None)\n",
    "lsf_data.get_line_list().keys()"
   ]
  },
  {
   "cell_type": "code",
   "execution_count": 74,
   "metadata": {},
   "outputs": [
    {
     "data": {
      "text/plain": [
       "(13175,)"
      ]
     },
     "execution_count": 74,
     "metadata": {},
     "output_type": "execute_result"
    }
   ],
   "source": [
    "array_waves = np.empty(0, dtype=float)\n",
    "array_intensity = np.empty(0, dtype=float)\n",
    "array_pos = np.empty(0, dtype=float)\n",
    "for nb_line in lsf_data.get_line_list().keys(): \n",
    "    data = lsf_data.get_data_line(nb_line)\n",
    "    array_waves = np.concatenate((array_waves, np.full_like(data['intensity'], data['waveline'])))\n",
    "    array_intensity = np.concatenate((array_intensity, data['intensity']))\n",
    "    array_pos = np.concatenate((array_pos, data['map_wave']-data['waveline']))\n",
    "array_waves.shape"
   ]
  },
  {
   "cell_type": "code",
   "execution_count": 75,
   "metadata": {},
   "outputs": [
    {
     "data": {
      "text/plain": [
       "5"
      ]
     },
     "execution_count": 75,
     "metadata": {},
     "output_type": "execute_result"
    }
   ],
   "source": [
    "#f = interpolate.interp2d(array_pos, array_waves, array_intensity, bounds_error=True)\n",
    "tck = bisplrep(array_pos, array_waves, array_intensity)\n",
    "len(tck)"
   ]
  },
  {
   "cell_type": "code",
   "execution_count": 76,
   "metadata": {},
   "outputs": [
    {
     "data": {
      "text/plain": [
       "array([[  1.91719141,  98.58109892, 189.15771819, ...,   3.33242179,\n",
       "          2.46512325,   1.36657706],\n",
       "       [  1.8813212 ,  89.31760896, 171.2467152 , ...,   3.02842042,\n",
       "          2.2688246 ,   1.31432323],\n",
       "       [  1.86917103,  80.21900673, 153.63307182, ...,   2.76813554,\n",
       "          2.10282829,   1.27488522],\n",
       "       ...,\n",
       "       [ 27.57834755, 115.63908391, 198.0221767 , ...,   2.19515245,\n",
       "          1.75089517,   1.22943713],\n",
       "       [ 30.73028921, 130.48826902, 223.82814251, ...,   2.14971225,\n",
       "          1.71538112,   1.20603807],\n",
       "       [ 34.13109336, 145.48776723, 249.69146501, ...,   2.10269803,\n",
       "          1.67947483,   1.18396854]])"
      ]
     },
     "execution_count": 76,
     "metadata": {},
     "output_type": "execute_result"
    }
   ],
   "source": [
    "pos = np.linspace(min(array_pos), max(array_pos), 250)\n",
    "waves = np.linspace(min(array_waves), max(array_waves), 250)\n",
    "intensities = bisplev(pos, waves, tck)\n",
    "intensities"
   ]
  },
  {
   "cell_type": "code",
   "execution_count": 77,
   "metadata": {},
   "outputs": [],
   "source": [
    "fig = plt.figure()\n",
    "ax = plt.axes()\n",
    "c = ax.pcolormesh(pos, waves, intensities)\n",
    "plt.colorbar(c, ax=ax)\n",
    "plt.show()"
   ]
  }
 ],
 "metadata": {
  "kernelspec": {
   "display_name": "Python 3.7.3 64-bit",
   "language": "python",
   "name": "python3"
  },
  "language_info": {
   "codemirror_mode": {
    "name": "ipython",
    "version": 3
   },
   "file_extension": ".py",
   "mimetype": "text/x-python",
   "name": "python",
   "nbconvert_exporter": "python",
   "pygments_lexer": "ipython3",
   "version": "3.7.3"
  },
  "orig_nbformat": 4,
  "vscode": {
   "interpreter": {
    "hash": "916dbcbb3f70747c44a77c7bcd40155683ae19c65e1c03b4aa3499c5328201f1"
   }
  }
 },
 "nbformat": 4,
 "nbformat_minor": 2
}
