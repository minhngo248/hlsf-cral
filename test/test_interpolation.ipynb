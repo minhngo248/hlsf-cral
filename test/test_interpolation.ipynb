{
 "cells": [
  {
   "cell_type": "code",
   "execution_count": 1,
   "metadata": {},
   "outputs": [],
   "source": [
    "import numpy as np\n",
    "import matplotlib.pyplot as plt\n",
    "from hlsf.models import LSF_DATA\n",
    "from scipy import interpolate\n",
    "from astropy.io import fits\n",
    "%matplotlib qt"
   ]
  },
  {
   "cell_type": "code",
   "execution_count": 2,
   "metadata": {},
   "outputs": [],
   "source": [
    "config = 'H'\n",
    "lamp = 'Kr'"
   ]
  },
  {
   "cell_type": "code",
   "execution_count": 3,
   "metadata": {},
   "outputs": [
    {
     "data": {
      "text/plain": [
       "{171: 14402.22,\n",
       " 172: 14426.793,\n",
       " 173: 14517.84,\n",
       " 174: 14734.436,\n",
       " 177: 14961.894,\n",
       " 178: 15005.307,\n",
       " 179: 15209.526,\n",
       " 180: 15239.615,\n",
       " 183: 15372.037,\n",
       " 184: 15474.026,\n",
       " 185: 15681.02,\n",
       " 186: 15820.09,\n",
       " 187: 16726.513,\n",
       " 188: 16785.128,\n",
       " 189: 16853.488,\n",
       " 192: 16935.806,\n",
       " 193: 17098.771,\n",
       " 194: 17367.606,\n",
       " 195: 17404.443,\n",
       " 196: 17616.854,\n",
       " 197: 17842.737,\n",
       " 198: 18002.229,\n",
       " 199: 18167.315,\n",
       " 200: 18399.786}"
      ]
     },
     "execution_count": 3,
     "metadata": {},
     "output_type": "execute_result"
    }
   ],
   "source": [
    "lsf_data = LSF_DATA(f\"../exposures/ARC-{lamp}_CLEAR_20MAS_{config}_PRM.fits\", f\"../text/{lamp}.txt\", f\"../exposures/WAVECAL_TABLE_20MAS_{config}.fits\", \n",
    "                        f\"../exposures/SLITLET_TABLE_20MAS_{config}.fits\", slice=10, normal='Normal')\n",
    "lsf_data.get_line_list()"
   ]
  },
  {
   "cell_type": "code",
   "execution_count": 5,
   "metadata": {},
   "outputs": [],
   "source": [
    "lsf_data.write_fits('../images/image.fits')"
   ]
  },
  {
   "cell_type": "code",
   "execution_count": 8,
   "metadata": {},
   "outputs": [
    {
     "name": "stdout",
     "output_type": "stream",
     "text": [
      "Filename: ../images/image.fits\n",
      "No.    Name      Ver    Type      Cards   Dimensions   Format\n",
      "  0  PRIMARY       1 PrimaryHDU      53   ()      \n",
      "  1  INTENSITY     1 ImageHDU         8   (818, 80)   float64   \n",
      "  2  X.COORDINATE    1 TableHDU        12   818R x 1C   [D25.17]   \n",
      "  3  Y.COORDINATE    1 TableHDU        12   80R x 1C   [D25.17]   \n"
     ]
    }
   ],
   "source": [
    "hdul = fits.open('../images/image.fits')\n",
    "hdul.info()"
   ]
  }
 ],
 "metadata": {
  "kernelspec": {
   "display_name": "Python 3.7.3 64-bit",
   "language": "python",
   "name": "python3"
  },
  "language_info": {
   "codemirror_mode": {
    "name": "ipython",
    "version": 3
   },
   "file_extension": ".py",
   "mimetype": "text/x-python",
   "name": "python",
   "nbconvert_exporter": "python",
   "pygments_lexer": "ipython3",
   "version": "3.7.3"
  },
  "orig_nbformat": 4,
  "vscode": {
   "interpreter": {
    "hash": "916dbcbb3f70747c44a77c7bcd40155683ae19c65e1c03b4aa3499c5328201f1"
   }
  }
 },
 "nbformat": 4,
 "nbformat_minor": 2
}
