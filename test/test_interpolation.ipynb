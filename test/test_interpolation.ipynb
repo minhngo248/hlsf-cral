{
 "cells": [
  {
   "cell_type": "code",
   "execution_count": 1,
   "metadata": {},
   "outputs": [],
   "source": [
    "import numpy as np\n",
    "import matplotlib.pyplot as plt\n",
    "from hlsf.models import LSF_DATA\n",
    "from scipy import interpolate\n",
    "from astropy.io import fits\n",
    "from astropy import wcs\n",
    "%matplotlib qt"
   ]
  },
  {
   "cell_type": "code",
   "execution_count": 2,
   "metadata": {},
   "outputs": [],
   "source": [
    "config = 'HK'\n",
    "lamp = 'Kr'"
   ]
  },
  {
   "cell_type": "code",
   "execution_count": 3,
   "metadata": {},
   "outputs": [
    {
     "data": {
      "text/plain": [
       "{170: 14104.298,\n",
       " 173: 14517.84,\n",
       " 184: 15474.026,\n",
       " 185: 15681.02,\n",
       " 186: 15820.09,\n",
       " 187: 16726.513,\n",
       " 188: 16785.128,\n",
       " 193: 17098.771,\n",
       " 196: 17616.854,\n",
       " 197: 17842.737,\n",
       " 198: 18002.229,\n",
       " 199: 18167.315,\n",
       " 200: 18399.786,\n",
       " 201: 18580.896,\n",
       " 202: 18696.294,\n",
       " 205: 20209.878,\n",
       " 208: 21165.471,\n",
       " 209: 21902.513,\n",
       " 210: 22485.775,\n",
       " 211: 23340.416}"
      ]
     },
     "execution_count": 3,
     "metadata": {},
     "output_type": "execute_result"
    }
   ],
   "source": [
    "lsf_data = LSF_DATA(f\"../exposures/ARC-{lamp}_CLEAR_20MAS_{config}_PRM.fits\", f\"../text/{lamp}.txt\", f\"../exposures/WAVECAL_TABLE_20MAS_{config}.fits\", \n",
    "                        f\"../exposures/SLITLET_TABLE_20MAS_{config}.fits\", slice=9, normal='Normal')\n",
    "lsf_data.get_line_list()"
   ]
  },
  {
   "cell_type": "code",
   "execution_count": 15,
   "metadata": {},
   "outputs": [],
   "source": [
    "hdul = fits.open('../images/image_HK.fits')\n",
    "image = hdul['INTENSITY'].data"
   ]
  },
  {
   "cell_type": "code",
   "execution_count": 16,
   "metadata": {},
   "outputs": [],
   "source": [
    "import warnings\n",
    "with warnings.catch_warnings():\n",
    "    # Ignore a warning on using DATE-OBS in place of MJD-OBS\n",
    "    warnings.filterwarnings('ignore', message=\"'datfix' made the change\",\n",
    "                            category=wcs.FITSFixedWarning)\n",
    "    wcs = wcs.WCS(hdul['INTENSITY'].header)"
   ]
  },
  {
   "cell_type": "code",
   "execution_count": 18,
   "metadata": {},
   "outputs": [],
   "source": [
    "fig = plt.figure()\n",
    "fig.add_subplot(111, projection=wcs)\n",
    "plt.imshow(image, origin='lower', cmap=plt.cm.viridis)\n",
    "plt.show()"
   ]
  }
 ],
 "metadata": {
  "kernelspec": {
   "display_name": "Python 3.7.3 64-bit",
   "language": "python",
   "name": "python3"
  },
  "language_info": {
   "codemirror_mode": {
    "name": "ipython",
    "version": 3
   },
   "file_extension": ".py",
   "mimetype": "text/x-python",
   "name": "python",
   "nbconvert_exporter": "python",
   "pygments_lexer": "ipython3",
   "version": "3.7.3"
  },
  "orig_nbformat": 4,
  "vscode": {
   "interpreter": {
    "hash": "916dbcbb3f70747c44a77c7bcd40155683ae19c65e1c03b4aa3499c5328201f1"
   }
  }
 },
 "nbformat": 4,
 "nbformat_minor": 2
}
