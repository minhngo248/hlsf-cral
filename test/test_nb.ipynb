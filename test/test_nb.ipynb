{
 "cells": [
  {
   "cell_type": "code",
   "execution_count": 130,
   "metadata": {},
   "outputs": [],
   "source": [
    "import matplotlib.pyplot as plt\n",
    "import numpy as np\n",
    "from hlsf.models import *\n",
    "from scipy.interpolate import RectBivariateSpline\n",
    "%matplotlib qt"
   ]
  },
  {
   "cell_type": "code",
   "execution_count": 131,
   "metadata": {},
   "outputs": [],
   "source": [
    "config = 'H'\n",
    "lamp = 'Kr'"
   ]
  },
  {
   "cell_type": "code",
   "execution_count": 132,
   "metadata": {},
   "outputs": [
    {
     "data": {
      "text/plain": [
       "{171: 14402.22,\n",
       " 172: 14426.793,\n",
       " 173: 14517.84,\n",
       " 174: 14734.436,\n",
       " 177: 14961.894,\n",
       " 178: 15005.307,\n",
       " 179: 15209.526,\n",
       " 180: 15239.615,\n",
       " 181: 15326.48,\n",
       " 182: 15334.958,\n",
       " 183: 15372.037,\n",
       " 184: 15474.026,\n",
       " 185: 15681.02,\n",
       " 186: 15820.09,\n",
       " 187: 16726.513,\n",
       " 188: 16785.128,\n",
       " 189: 16853.488,\n",
       " 192: 16935.806,\n",
       " 193: 17098.771,\n",
       " 194: 17367.606,\n",
       " 195: 17404.443,\n",
       " 196: 17616.854,\n",
       " 197: 17842.737,\n",
       " 198: 18002.229,\n",
       " 199: 18167.315}"
      ]
     },
     "execution_count": 132,
     "metadata": {},
     "output_type": "execute_result"
    }
   ],
   "source": [
    "lsf_data = LSF_DATA(f\"../exposures/ARC-{lamp}_CLEAR_20MAS_{config}_PRM.fits\", f\"../text/{lamp}.txt\", f\"../exposures/WAVECAL_TABLE_20MAS_{config}.fits\", \n",
    "                        f\"../exposures/SLITLET_TABLE_20MAS_{config}.fits\")\n",
    "lsf_data.get_line_list()"
   ]
  },
  {
   "cell_type": "code",
   "execution_count": 133,
   "metadata": {},
   "outputs": [
    {
     "data": {
      "text/plain": [
       "array([14402.22 , 14402.22 , 14402.22 , ..., 18167.315, 18167.315,\n",
       "       18167.315])"
      ]
     },
     "execution_count": 133,
     "metadata": {},
     "output_type": "execute_result"
    }
   ],
   "source": [
    "array_waves = np.empty(0, dtype=float)\n",
    "array_intensity = np.empty(0, dtype=float)\n",
    "array_pos = np.empty(0, dtype=float)\n",
    "for nb_line in lsf_data.get_line_list().keys(): \n",
    "    data = lsf_data.get_data_line(nb_line, step=10)\n",
    "    pos = data['map_wave']-data['waveline']\n",
    "    intensity = data['intensity']\n",
    "    array_pos = np.concatenate((array_pos, pos))\n",
    "    array_waves = np.concatenate((array_waves, np.full_like(pos, data['waveline'])))\n",
    "    array_intensity = np.concatenate((array_intensity, intensity))\n",
    "array_waves"
   ]
  },
  {
   "cell_type": "code",
   "execution_count": 134,
   "metadata": {},
   "outputs": [
    {
     "data": {
      "text/plain": [
       "array([15326.48 , 17098.771, 15681.02 , ..., 14734.436, 17404.443,\n",
       "       17616.854])"
      ]
     },
     "execution_count": 134,
     "metadata": {},
     "output_type": "execute_result"
    }
   ],
   "source": [
    "# Sort array_pos\n",
    "dtype=[('pos', float), ('wave', float), ('intensity', float)]\n",
    "values = [(array_pos[i], array_waves[i], array_intensity[i]) for i in range(len(array_intensity))]\n",
    "tup_data = np.array(values, dtype=dtype)\n",
    "tup_data = np.sort(tup_data, order=['pos', 'wave'])\n",
    "array_pos = np.asarray(tup_data[:]['pos'])\n",
    "array_waves = np.asarray(tup_data[:]['wave'])\n",
    "array_intensity = np.asarray(tup_data[:]['intensity'])\n",
    "array_waves"
   ]
  },
  {
   "cell_type": "code",
   "execution_count": 126,
   "metadata": {},
   "outputs": [],
   "source": [
    "fig = plt.figure()\n",
    "ax = plt.axes()\n",
    "ax.plot(array_waves, array_intensity)\n",
    "plt.show()"
   ]
  },
  {
   "cell_type": "code",
   "execution_count": 127,
   "metadata": {},
   "outputs": [
    {
     "data": {
      "text/plain": [
       "(1831, 1831)"
      ]
     },
     "execution_count": 127,
     "metadata": {},
     "output_type": "execute_result"
    }
   ],
   "source": [
    "array_intensity, array_intensity = np.meshgrid(array_intensity, array_intensity)\n",
    "array_intensity.shape"
   ]
  },
  {
   "cell_type": "code",
   "execution_count": 128,
   "metadata": {},
   "outputs": [
    {
     "ename": "ValueError",
     "evalue": "y must be strictly increasing",
     "output_type": "error",
     "traceback": [
      "\u001b[0;31m---------------------------------------------------------------------------\u001b[0m",
      "\u001b[0;31mValueError\u001b[0m                                Traceback (most recent call last)",
      "\u001b[0;32m<ipython-input-128-5ba83401fdab>\u001b[0m in \u001b[0;36m<module>\u001b[0;34m\u001b[0m\n\u001b[0;32m----> 1\u001b[0;31m \u001b[0minterp_spline\u001b[0m \u001b[0;34m=\u001b[0m \u001b[0mRectBivariateSpline\u001b[0m\u001b[0;34m(\u001b[0m\u001b[0marray_pos\u001b[0m\u001b[0;34m,\u001b[0m \u001b[0marray_waves\u001b[0m\u001b[0;34m,\u001b[0m \u001b[0marray_intensity\u001b[0m\u001b[0;34m)\u001b[0m\u001b[0;34m\u001b[0m\u001b[0;34m\u001b[0m\u001b[0m\n\u001b[0m",
      "\u001b[0;32m/usr/lib/python3/dist-packages/scipy/interpolate/fitpack2.py\u001b[0m in \u001b[0;36m__init__\u001b[0;34m(self, x, y, z, bbox, kx, ky, s)\u001b[0m\n\u001b[1;32m   1314\u001b[0m             \u001b[0;32mraise\u001b[0m \u001b[0mValueError\u001b[0m\u001b[0;34m(\u001b[0m\u001b[0;34m'x must be strictly increasing'\u001b[0m\u001b[0;34m)\u001b[0m\u001b[0;34m\u001b[0m\u001b[0;34m\u001b[0m\u001b[0m\n\u001b[1;32m   1315\u001b[0m         \u001b[0;32mif\u001b[0m \u001b[0;32mnot\u001b[0m \u001b[0mnp\u001b[0m\u001b[0;34m.\u001b[0m\u001b[0mall\u001b[0m\u001b[0;34m(\u001b[0m\u001b[0mdiff\u001b[0m\u001b[0;34m(\u001b[0m\u001b[0my\u001b[0m\u001b[0;34m)\u001b[0m \u001b[0;34m>\u001b[0m \u001b[0;36m0.0\u001b[0m\u001b[0;34m)\u001b[0m\u001b[0;34m:\u001b[0m\u001b[0;34m\u001b[0m\u001b[0;34m\u001b[0m\u001b[0m\n\u001b[0;32m-> 1316\u001b[0;31m             \u001b[0;32mraise\u001b[0m \u001b[0mValueError\u001b[0m\u001b[0;34m(\u001b[0m\u001b[0;34m'y must be strictly increasing'\u001b[0m\u001b[0;34m)\u001b[0m\u001b[0;34m\u001b[0m\u001b[0;34m\u001b[0m\u001b[0m\n\u001b[0m\u001b[1;32m   1317\u001b[0m         \u001b[0;32mif\u001b[0m \u001b[0;32mnot\u001b[0m \u001b[0mx\u001b[0m\u001b[0;34m.\u001b[0m\u001b[0msize\u001b[0m \u001b[0;34m==\u001b[0m \u001b[0mz\u001b[0m\u001b[0;34m.\u001b[0m\u001b[0mshape\u001b[0m\u001b[0;34m[\u001b[0m\u001b[0;36m0\u001b[0m\u001b[0;34m]\u001b[0m\u001b[0;34m:\u001b[0m\u001b[0;34m\u001b[0m\u001b[0;34m\u001b[0m\u001b[0m\n\u001b[1;32m   1318\u001b[0m             raise ValueError('x dimension of z must have same number of '\n",
      "\u001b[0;31mValueError\u001b[0m: y must be strictly increasing"
     ]
    }
   ],
   "source": [
    "interp_spline = RectBivariateSpline(array_pos, array_waves, array_intensity)"
   ]
  },
  {
   "cell_type": "code",
   "execution_count": 99,
   "metadata": {},
   "outputs": [
    {
     "data": {
      "text/plain": [
       "array([[0.00288551, 0.00288551, 0.00288551, ..., 0.00288551, 0.00288551,\n",
       "        0.00288551],\n",
       "       [0.00307008, 0.00307008, 0.00307008, ..., 0.00307008, 0.00307008,\n",
       "        0.00307008],\n",
       "       [0.00301941, 0.00301941, 0.00301941, ..., 0.00301941, 0.00301941,\n",
       "        0.00301941],\n",
       "       ...,\n",
       "       [0.00284123, 0.00284123, 0.00284123, ..., 0.00284123, 0.00284123,\n",
       "        0.00284123],\n",
       "       [0.00331821, 0.00331821, 0.00331821, ..., 0.00331821, 0.00331821,\n",
       "        0.00331821],\n",
       "       [0.00335541, 0.00335541, 0.00335541, ..., 0.00335541, 0.00335541,\n",
       "        0.00335541]])"
      ]
     },
     "execution_count": 99,
     "metadata": {},
     "output_type": "execute_result"
    }
   ],
   "source": [
    "intensities = interp_spline(array_pos, array_waves)\n",
    "intensities"
   ]
  },
  {
   "cell_type": "code",
   "execution_count": 100,
   "metadata": {},
   "outputs": [],
   "source": [
    "fig = plt.figure()\n",
    "ax = plt.axes()\n",
    "c = ax.pcolormesh(array_pos, array_waves, intensities)\n",
    "plt.colorbar(c, ax=ax)\n",
    "plt.show()"
   ]
  }
 ],
 "metadata": {
  "kernelspec": {
   "display_name": "Python 3.7.3 64-bit",
   "language": "python",
   "name": "python3"
  },
  "language_info": {
   "codemirror_mode": {
    "name": "ipython",
    "version": 3
   },
   "file_extension": ".py",
   "mimetype": "text/x-python",
   "name": "python",
   "nbconvert_exporter": "python",
   "pygments_lexer": "ipython3",
   "version": "3.7.3"
  },
  "orig_nbformat": 4,
  "vscode": {
   "interpreter": {
    "hash": "916dbcbb3f70747c44a77c7bcd40155683ae19c65e1c03b4aa3499c5328201f1"
   }
  }
 },
 "nbformat": 4,
 "nbformat_minor": 2
}
