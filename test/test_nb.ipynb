{
 "cells": [
  {
   "cell_type": "code",
   "execution_count": 32,
   "metadata": {},
   "outputs": [],
   "source": [
    "from hlsf.models import *\n",
    "import matplotlib.pyplot as plt\n",
    "import numpy as np\n",
    "from lmfit.models import MoffatModel\n",
    "%matplotlib qt"
   ]
  },
  {
   "cell_type": "code",
   "execution_count": 33,
   "metadata": {},
   "outputs": [],
   "source": [
    "config = 'H'\n",
    "lamp = 'Kr'\n",
    "nb_line = 177\n",
    "lamps = ['Ar', 'Kr', 'Ne', 'Xe']"
   ]
  },
  {
   "cell_type": "code",
   "execution_count": 34,
   "metadata": {},
   "outputs": [
    {
     "data": {
      "text/plain": [
       "dict_keys([171, 172, 173, 174, 177, 178, 179, 180, 181, 182, 183, 184, 185, 186, 187, 188, 189, 192, 193, 194, 195, 196, 197, 198, 199])"
      ]
     },
     "execution_count": 34,
     "metadata": {},
     "output_type": "execute_result"
    }
   ],
   "source": [
    "lsf_data = LSF_DATA(f\"../exposures/ARC-{lamp}_CLEAR_20MAS_{config}_PRM.fits\", f\"../text/{lamp}.txt\", f\"../exposures/WAVECAL_TABLE_20MAS_{config}.fits\", \n",
    "                        f\"../exposures/SLITLET_TABLE_20MAS_{config}.fits\")\n",
    "lsf_data.get_line_list().keys()"
   ]
  },
  {
   "cell_type": "code",
   "execution_count": 35,
   "metadata": {},
   "outputs": [],
   "source": [
    "data = lsf_data.get_data_line(nb_line)\n",
    "waves = data['map_wave']\n",
    "w_0 = data['waveline']\n",
    "intensity = data['intensity']"
   ]
  },
  {
   "cell_type": "code",
   "execution_count": 36,
   "metadata": {},
   "outputs": [
    {
     "data": {
      "text/html": [
       "<table><tr><th> name </th><th> value </th><th> initial value </th><th> min </th><th> max </th><th> vary </th><th> expression </th></tr><tr><td> amplitude </td><td>  0.40202525 </td><td> None </td><td>        -inf </td><td>         inf </td><td> True </td><td>  </td></tr><tr><td> center </td><td> -0.02102233 </td><td> None </td><td>        -inf </td><td>         inf </td><td> True </td><td>  </td></tr><tr><td> sigma </td><td>  1.15238184 </td><td> None </td><td>  0.00000000 </td><td>         inf </td><td> True </td><td>  </td></tr><tr><td> beta </td><td>  1.00000000 </td><td> None </td><td>        -inf </td><td>         inf </td><td> True </td><td>  </td></tr><tr><td> fwhm </td><td>  2.30476367 </td><td> None </td><td>        -inf </td><td>         inf </td><td> False </td><td> 2*sigma*sqrt(2**(1.0/max(1e-3, beta))-1) </td></tr><tr><td> height </td><td>  0.40202525 </td><td> None </td><td>        -inf </td><td>         inf </td><td> False </td><td> amplitude </td></tr></table>"
      ],
      "text/plain": [
       "Parameters([('amplitude', <Parameter 'amplitude', value=0.40202525, bounds=[-inf:inf]>), ('center', <Parameter 'center', value=-0.02102232955803629, bounds=[-inf:inf]>), ('sigma', <Parameter 'sigma', value=1.1523818354216928, bounds=[0:inf]>), ('beta', <Parameter 'beta', value=1, bounds=[-inf:inf]>), ('fwhm', <Parameter 'fwhm', value=2.3047636708433856, bounds=[-inf:inf], expr='2*sigma*sqrt(2**(1.0/max(1e-3, beta))-1)'>), ('height', <Parameter 'height', value=0.40202525, bounds=[-inf:inf], expr='amplitude'>)])"
      ]
     },
     "execution_count": 36,
     "metadata": {},
     "output_type": "execute_result"
    }
   ],
   "source": [
    "mod = MoffatModel()\n",
    "ind = np.argmin(abs(max(intensity) - intensity))\n",
    "A = max(intensity)\n",
    "mu = waves[ind] - w_0\n",
    "ind_half = np.argmin(abs(max(intensity)/2 - intensity))\n",
    "sigma = abs(waves[ind_half] - w_0 - mu)\n",
    "init_params = mod.make_params(amplitude=A, center=mu, sigma=sigma, beta=1)\n",
    "init_params"
   ]
  },
  {
   "cell_type": "code",
   "execution_count": 37,
   "metadata": {},
   "outputs": [],
   "source": [
    "waves_linspace = np.linspace(min(waves-w_0), max(waves-w_0), len(waves))\n",
    "eval_intensity = mod.eval(init_params, x=waves_linspace)\n",
    "fig = plt.figure()\n",
    "ax = plt.axes()\n",
    "lsf_data.plot_line(nb_line, ax)\n",
    "ax.plot(waves_linspace, eval_intensity, color='red')\n",
    "plt.show()"
   ]
  },
  {
   "cell_type": "code",
   "execution_count": 38,
   "metadata": {},
   "outputs": [],
   "source": [
    "out = mod.fit(intensity, init_params, x=waves-w_0)"
   ]
  },
  {
   "cell_type": "code",
   "execution_count": 39,
   "metadata": {},
   "outputs": [
    {
     "data": {
      "text/html": [
       "<table><tr><th> name </th><th> value </th><th> standard error </th><th> relative error </th><th> initial value </th><th> min </th><th> max </th><th> vary </th><th> expression </th></tr><tr><td> amplitude </td><td>  0.40149383 </td><td>  2.8780e-04 </td><td> (0.07%) </td><td> 0.4020252525806427 </td><td>        -inf </td><td>         inf </td><td> True </td><td>  </td></tr><tr><td> center </td><td>  4.9084e-04 </td><td>  7.3594e-04 </td><td> (149.93%) </td><td> -0.02102232955803629 </td><td>        -inf </td><td>         inf </td><td> True </td><td>  </td></tr><tr><td> sigma </td><td>  37.6899858 </td><td>  46.3352450 </td><td> (122.94%) </td><td> 1.1523818354216928 </td><td>  0.00000000 </td><td>         inf </td><td> True </td><td>  </td></tr><tr><td> beta </td><td>  719.933460 </td><td>  1768.30051 </td><td> (245.62%) </td><td> 1 </td><td>        -inf </td><td>         inf </td><td> True </td><td>  </td></tr><tr><td> fwhm </td><td>  2.33952162 </td><td>  0.00237050 </td><td> (0.10%) </td><td> 2.3047636708433856 </td><td>        -inf </td><td>         inf </td><td> False </td><td> 2*sigma*sqrt(2**(1.0/max(1e-3, beta))-1) </td></tr><tr><td> height </td><td>  0.40149383 </td><td>  2.8780e-04 </td><td> (0.07%) </td><td> 0.4020252525806427 </td><td>        -inf </td><td>         inf </td><td> False </td><td> amplitude </td></tr></table>"
      ],
      "text/plain": [
       "Parameters([('amplitude', <Parameter 'amplitude', value=0.40149382782866705 +/- 0.000288, bounds=[-inf:inf]>), ('center', <Parameter 'center', value=0.0004908433962742223 +/- 0.000736, bounds=[-inf:inf]>), ('sigma', <Parameter 'sigma', value=37.68998582313593 +/- 46.3, bounds=[0:inf]>), ('beta', <Parameter 'beta', value=719.933460229631 +/- 1.77e+03, bounds=[-inf:inf]>), ('fwhm', <Parameter 'fwhm', value=2.3395216218640287 +/- 0.00237, bounds=[-inf:inf], expr='2*sigma*sqrt(2**(1.0/max(1e-3, beta))-1)'>), ('height', <Parameter 'height', value=0.40149382782866705 +/- 0.000288, bounds=[-inf:inf], expr='amplitude'>)])"
      ]
     },
     "execution_count": 39,
     "metadata": {},
     "output_type": "execute_result"
    }
   ],
   "source": [
    "out.params"
   ]
  },
  {
   "cell_type": "code",
   "execution_count": 40,
   "metadata": {},
   "outputs": [],
   "source": [
    "waves_linspace = np.linspace(min(waves-w_0), max(waves-w_0), len(waves))\n",
    "eval_intensity = mod.eval(out.params, x=waves_linspace)\n",
    "fig = plt.figure()\n",
    "ax = plt.axes()\n",
    "lsf_data.plot_line(nb_line, ax)\n",
    "ax.plot(waves_linspace, eval_intensity, color='red')\n",
    "plt.show()"
   ]
  }
 ],
 "metadata": {
  "kernelspec": {
   "display_name": "Python 3.7.3 64-bit",
   "language": "python",
   "name": "python3"
  },
  "language_info": {
   "codemirror_mode": {
    "name": "ipython",
    "version": 3
   },
   "file_extension": ".py",
   "mimetype": "text/x-python",
   "name": "python",
   "nbconvert_exporter": "python",
   "pygments_lexer": "ipython3",
   "version": "3.7.3"
  },
  "orig_nbformat": 4,
  "vscode": {
   "interpreter": {
    "hash": "916dbcbb3f70747c44a77c7bcd40155683ae19c65e1c03b4aa3499c5328201f1"
   }
  }
 },
 "nbformat": 4,
 "nbformat_minor": 2
}
