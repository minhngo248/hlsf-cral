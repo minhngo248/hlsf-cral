{
 "cells": [
  {
   "cell_type": "code",
   "execution_count": 71,
   "metadata": {},
   "outputs": [],
   "source": [
    "from hlsf.models import *\n",
    "import matplotlib.pyplot as plt\n",
    "import numpy as np\n",
    "from lmfit.models import MoffatModel\n",
    "%matplotlib inline"
   ]
  },
  {
   "cell_type": "code",
   "execution_count": 72,
   "metadata": {},
   "outputs": [],
   "source": [
    "config = 'H'\n",
    "lamp = 'Kr'\n",
    "nb_line = 177\n",
    "lamps = ['Ar', 'Kr', 'Ne', 'Xe']"
   ]
  },
  {
   "cell_type": "code",
   "execution_count": 73,
   "metadata": {},
   "outputs": [
    {
     "data": {
      "text/plain": [
       "dict_keys([171, 172, 173, 174, 177, 178, 179, 180, 181, 182, 183, 184, 185, 186, 187, 188, 189, 192, 193, 194, 195, 196, 197, 198, 199])"
      ]
     },
     "execution_count": 73,
     "metadata": {},
     "output_type": "execute_result"
    }
   ],
   "source": [
    "lsf_data = LSF_DATA(f\"../exposures/ARC-{lamp}_CLEAR_20MAS_{config}_PRM.fits\", f\"../text/{lamp}.txt\", f\"../exposures/WAVECAL_TABLE_20MAS_{config}.fits\", \n",
    "                        f\"../exposures/SLITLET_TABLE_20MAS_{config}.fits\")\n",
    "lsf_data.get_line_list().keys()"
   ]
  },
  {
   "cell_type": "code",
   "execution_count": 74,
   "metadata": {},
   "outputs": [],
   "source": [
    "data = lsf_data.get_data_line(nb_line)\n",
    "waves = data['map_wave']\n",
    "w_0 = data['waveline']\n",
    "intensity = data['intensity']"
   ]
  },
  {
   "cell_type": "code",
   "execution_count": 75,
   "metadata": {},
   "outputs": [
    {
     "data": {
      "text/html": [
       "<table><tr><th> name </th><th> value </th><th> initial value </th><th> min </th><th> max </th><th> vary </th><th> expression </th></tr><tr><td> amplitude </td><td>  0.69980170 </td><td> None </td><td>        -inf </td><td>         inf </td><td> True </td><td>  </td></tr><tr><td> center </td><td> -0.03297538 </td><td> None </td><td>        -inf </td><td>         inf </td><td> True </td><td>  </td></tr><tr><td> sigma </td><td>  1.35021458 </td><td> None </td><td>  0.00000000 </td><td>         inf </td><td> True </td><td>  </td></tr><tr><td> beta </td><td>  1.00000000 </td><td> None </td><td>        -inf </td><td>         inf </td><td> True </td><td>  </td></tr><tr><td> fwhm </td><td>  2.70042916 </td><td> None </td><td>        -inf </td><td>         inf </td><td> False </td><td> 2*sigma*sqrt(2**(1.0/max(1e-3, beta))-1) </td></tr><tr><td> height </td><td>  0.69980170 </td><td> None </td><td>        -inf </td><td>         inf </td><td> False </td><td> amplitude </td></tr></table>"
      ],
      "text/plain": [
       "Parameters([('amplitude', <Parameter 'amplitude', value=0.699801698423368, bounds=[-inf:inf]>), ('center', <Parameter 'center', value=-0.03297538393555534, bounds=[-inf:inf]>), ('sigma', <Parameter 'sigma', value=1.3502145777410988, bounds=[0.0:inf]>), ('beta', <Parameter 'beta', value=1.0, bounds=[-inf:inf]>), ('fwhm', <Parameter 'fwhm', value=2.7004291554821975, bounds=[-inf:inf], expr='2*sigma*sqrt(2**(1.0/max(1e-3, beta))-1)'>), ('height', <Parameter 'height', value=0.699801698423368, bounds=[-inf:inf], expr='amplitude'>)])"
      ]
     },
     "execution_count": 75,
     "metadata": {},
     "output_type": "execute_result"
    }
   ],
   "source": [
    "mod = MoffatModel()\n",
    "init_params = mod.guess(intensity, x=waves-w_0)\n",
    "init_params"
   ]
  },
  {
   "cell_type": "code",
   "execution_count": 76,
   "metadata": {},
   "outputs": [
    {
     "data": {
      "text/plain": [
       "array([0.07868244, 0.07655643, 0.07450968, 0.07253852, 0.07063946,\n",
       "       0.06880922, 0.13516653, 0.13062094, 0.12627931, 0.12213083,\n",
       "       0.11816529, 0.11437309, 0.11074513, 0.10727287, 0.10394823,\n",
       "       0.10076362, 0.09771187, 0.09478621, 0.09198028, 0.08928807,\n",
       "       0.08670391, 0.08422247, 0.0818387 , 0.07954785, 0.07734543,\n",
       "       0.07522719, 0.07318914, 0.07122749, 0.06933866, 0.26573408,\n",
       "       0.25476699, 0.24433219, 0.23440723, 0.22496939, 0.21599598,\n",
       "       0.20746461, 0.19935332, 0.19164078, 0.18430635, 0.17733019,\n",
       "       0.17069326, 0.16437739, 0.15836524, 0.15264036, 0.14718712,\n",
       "       0.14199074, 0.13703721, 0.13231333, 0.1278066 , 0.12350525,\n",
       "       0.1193982 , 0.11547498, 0.11172575, 0.10814123, 0.10471269,\n",
       "       0.10143192, 0.09829117, 0.09528317, 0.09240105, 0.08963835,\n",
       "       0.086989  , 0.08444726, 0.08200774, 0.07966535, 0.0774153 ,\n",
       "       0.07525306, 0.07317437, 0.0711752 , 0.06925176, 0.55432651,\n",
       "       0.53460417, 0.51476939, 0.49499208, 0.47541776, 0.45616825,\n",
       "       0.43734292, 0.41902056, 0.40126142, 0.38410949, 0.36759463,\n",
       "       0.35173476, 0.3365378 , 0.32200343, 0.30812473, 0.29488956,\n",
       "       0.28228172, 0.270282  , 0.25886901, 0.24801989, 0.2377109 ,\n",
       "       0.22791786, 0.21861653, 0.20978292, 0.20139347, 0.19342527,\n",
       "       0.18585613, 0.17866473, 0.1718306 , 0.16533422, 0.159157  ,\n",
       "       0.15328128, 0.14769032, 0.1423683 , 0.13730025, 0.13247205,\n",
       "       0.12787041, 0.12348277, 0.11929734, 0.11530301, 0.11148933,\n",
       "       0.10784648, 0.10436522, 0.10103687, 0.09785326, 0.09480671,\n",
       "       0.09189   , 0.08909635, 0.08641937, 0.08385306, 0.08139175,\n",
       "       0.07903013, 0.0767632 , 0.07458622, 0.07249476, 0.07048462,\n",
       "       0.6575441 , 0.67026787, 0.68097716, 0.68944512, 0.69548206,\n",
       "       0.69894526, 0.69974686, 0.69785894, 0.69331528, 0.6862096 ,\n",
       "       0.67669053, 0.66495368, 0.65123172, 0.63578328, 0.61888166,\n",
       "       0.60080414, 0.58182246, 0.56219509, 0.54216125, 0.52193687,\n",
       "       0.50171224, 0.48165117, 0.46189132, 0.44254549, 0.42370347,\n",
       "       0.40543428, 0.38778864, 0.37080143, 0.35449403, 0.3388766 ,\n",
       "       0.32395005, 0.30970789, 0.29613773, 0.28322272, 0.2709426 ,\n",
       "       0.25927472, 0.24819482, 0.23767763, 0.22769744, 0.21822847,\n",
       "       0.20924521, 0.20072267, 0.19263652, 0.1849633 , 0.17768042,\n",
       "       0.17076629, 0.16420032, 0.15796293, 0.15203557, 0.14640066,\n",
       "       0.14104162, 0.13594279, 0.13108943, 0.12646764, 0.12206438,\n",
       "       0.11786737, 0.11386506, 0.11004663, 0.1064019 , 0.10292131,\n",
       "       0.09959589, 0.09641722, 0.09337738, 0.09046894, 0.08768493,\n",
       "       0.08501879, 0.08246436, 0.08001584, 0.0776678 , 0.0754151 ,\n",
       "       0.07325293, 0.07117675, 0.06918228, 0.34321127, 0.35850167,\n",
       "       0.37447456, 0.39112304, 0.4084296 , 0.42636387, 0.44488019,\n",
       "       0.46391503, 0.48338436, 0.50318116, 0.52317318, 0.54320125,\n",
       "       0.56307838, 0.58259002, 0.60149585, 0.61953327, 0.63642291,\n",
       "       0.65187626, 0.66560524, 0.67733339, 0.68680807, 0.69381273,\n",
       "       0.69817841, 0.69979324, 0.69860904, 0.69464438, 0.68798365,\n",
       "       0.67877232, 0.66720882, 0.65353395, 0.63801878, 0.6209521 ,\n",
       "       0.60262847, 0.58333752, 0.56335518, 0.54293694, 0.52231318,\n",
       "       0.50168659, 0.48123116, 0.46109257, 0.4413896 , 0.4222162 ,\n",
       "       0.40364406, 0.38572524, 0.36849492, 0.35197404, 0.33617166,\n",
       "       0.32108723, 0.30671247, 0.29303312, 0.28003029, 0.26768177,\n",
       "       0.25596295, 0.24484771, 0.23430903, 0.22431956, 0.21485202,\n",
       "       0.20587952, 0.1973758 , 0.18931543, 0.18167391, 0.17442776,\n",
       "       0.16755456, 0.16103302, 0.15484292, 0.14896515, 0.14338165,\n",
       "       0.1380754 , 0.13303037, 0.12823149, 0.12366459, 0.11931639,\n",
       "       0.11517437, 0.11122684, 0.10746281, 0.10387196, 0.10044464,\n",
       "       0.09717178, 0.09404488, 0.09105597, 0.08819757, 0.08546266,\n",
       "       0.08284467, 0.08033739, 0.07793504, 0.07563214, 0.07342359,\n",
       "       0.07130454, 0.06927049, 0.16715227, 0.17352314, 0.18023063,\n",
       "       0.18729511, 0.19473805, 0.20258198, 0.21085049, 0.21956817,\n",
       "       0.22876048, 0.23845362, 0.24867435, 0.25944969, 0.2708066 ,\n",
       "       0.28277147, 0.29536958, 0.30862435, 0.32255643, 0.33718263,\n",
       "       0.35251453, 0.368557  , 0.38530628, 0.40274791, 0.42085435,\n",
       "       0.43958234, 0.45887011, 0.47863451, 0.49876816, 0.51913691,\n",
       "       0.53957781, 0.55989795, 0.57987445, 0.59925618, 0.61776726,\n",
       "       0.63511296, 0.65098779, 0.66508593, 0.67711345, 0.68680171,\n",
       "       0.69392095, 0.69829289, 0.69980119, 0.69839856, 0.69410995,\n",
       "       0.6870311 , 0.67732304, 0.6652027 , 0.65093102, 0.63479941,\n",
       "       0.61711602, 0.59819275, 0.57833392, 0.55782708, 0.53693617,\n",
       "       0.51589705, 0.49491513, 0.47416485, 0.45379046, 0.43390789,\n",
       "       0.41460729, 0.39595582, 0.37800073, 0.36077227, 0.34428651,\n",
       "       0.32854789, 0.31355149, 0.29928505, 0.28573066, 0.2728662 ,\n",
       "       0.2606666 , 0.24910473, 0.23815229, 0.22778039, 0.21796009,\n",
       "       0.20866275, 0.19986034, 0.19152568, 0.18363254, 0.17615579,\n",
       "       0.16907146, 0.16235674, 0.15599001, 0.14995084, 0.14421994,\n",
       "       0.13877916, 0.13361141, 0.12870063, 0.12403177, 0.11959069,\n",
       "       0.11536415, 0.11133972, 0.09321764, 0.09603771, 0.09898413,\n",
       "       0.10206413, 0.10528541, 0.10865619, 0.11218524, 0.11588193,\n",
       "       0.11975625, 0.12381886, 0.12808115, 0.13255528, 0.13725421,\n",
       "       0.14219176, 0.14738269, 0.15284271, 0.15858852, 0.16463792,\n",
       "       0.17100977, 0.17772411, 0.18480211, 0.19226613, 0.20013969,\n",
       "       0.20844745, 0.21721519, 0.22646964, 0.2362384 , 0.2465497 ,\n",
       "       0.25743214, 0.26891431, 0.28102429, 0.29378906, 0.30723371,\n",
       "       0.32138043, 0.33624739, 0.35184724, 0.36818545, 0.38525825,\n",
       "       0.40305035, 0.42153233, 0.44065771, 0.46035993, 0.48054913,\n",
       "       0.50110906, 0.52189437, 0.54272842, 0.56340217, 0.58367447,\n",
       "       0.6032742 , 0.62190469, 0.63925062, 0.65498759, 0.66879408,\n",
       "       0.68036529, 0.68942809, 0.69575569, 0.69918085, 0.69960628,\n",
       "       0.69701089, 0.69145137, 0.68305882, 0.67203076, 0.65861948,\n",
       "       0.64311803, 0.62584508, 0.60713009, 0.58729998, 0.5666678 ,\n",
       "       0.54552413, 0.52413101, 0.5027185 , 0.48148328, 0.46058908,\n",
       "       0.44016834, 0.42032475, 0.40113633, 0.38265864, 0.36492814,\n",
       "       0.34796522, 0.33177717, 0.31636067, 0.30170409, 0.28778943,\n",
       "       0.27459392, 0.26209141, 0.25025346, 0.23905025, 0.22845129,\n",
       "       0.21842598, 0.20894407, 0.07140044, 0.0733392 , 0.07535721,\n",
       "       0.07745869, 0.07964811, 0.08193024, 0.08431018, 0.08679333,\n",
       "       0.08938546, 0.09209273, 0.0949217 , 0.09787937, 0.10097323,\n",
       "       0.10421125, 0.10760197, 0.11115449, 0.11487856, 0.11878457,\n",
       "       0.12288366, 0.1271877 , 0.13170939, 0.1364623 , 0.14146092,\n",
       "       0.14672072, 0.1522582 , 0.15809093, 0.16423765, 0.17071825,\n",
       "       0.17755386, 0.18476687, 0.1923809 , 0.20042088, 0.20891292,\n",
       "       0.21788432, 0.22736345, 0.23737954, 0.2479625 , 0.25914258,\n",
       "       0.27094995, 0.28341413, 0.29656333, 0.31042347, 0.32501716,\n",
       "       0.34036227, 0.35647031, 0.37334446, 0.39097728, 0.40934806,\n",
       "       0.42841986, 0.44813626, 0.46841792, 0.48915914, 0.51022459,\n",
       "       0.5314465 , 0.55262277, 0.57351641, 0.59385673, 0.61334288,\n",
       "       0.63165009, 0.64843874, 0.66336635, 0.67610191, 0.68634191,\n",
       "       0.69382663, 0.69835543, 0.69979934, 0.69810959, 0.69332103,\n",
       "       0.68555009, 0.67498738, 0.66188596, 0.64654643, 0.62930061,\n",
       "       0.61049511, 0.59047633, 0.56957766, 0.54810955, 0.52635254,\n",
       "       0.50455309, 0.48292187, 0.46163407, 0.44083112, 0.07093048,\n",
       "       0.07289014, 0.07493125, 0.07705822, 0.07927573, 0.08158879,\n",
       "       0.08400273, 0.08652323, 0.08915636, 0.09190858, 0.09478683,\n",
       "       0.09779847, 0.10095142, 0.1042541 , 0.10771555, 0.11134543,\n",
       "       0.11515405, 0.11915249, 0.12335256, 0.12776691, 0.13240909,\n",
       "       0.13729358, 0.14243586, 0.14785247, 0.15356107, 0.1595805 ,\n",
       "       0.16593085, 0.17263348, 0.17971105, 0.18718762, 0.19508856,\n",
       "       0.20344062, 0.21227182, 0.22161143, 0.23148975, 0.24193797,\n",
       "       0.25298784, 0.26467131, 0.27701993, 0.29006428, 0.30383297,\n",
       "       0.31835166, 0.33364163, 0.34971813, 0.36658841, 0.38424936,\n",
       "       0.40268475, 0.42186214, 0.44172944, 0.4622112 , 0.48320483,\n",
       "       0.50457695, 0.52616014, 0.54775057, 0.56910699, 0.58995152,\n",
       "       0.60997294, 0.62883289, 0.64617521, 0.66163854, 0.67487164,\n",
       "       0.68555066, 0.69339701, 0.69819417, 0.69980167, 0.07110313,\n",
       "       0.07310927, 0.07520048, 0.07738144, 0.07965717, 0.082033  ,\n",
       "       0.08451462, 0.08710812, 0.08982001, 0.09265723, 0.0956272 ,\n",
       "       0.09873788, 0.10199776, 0.10541596, 0.10900223, 0.11276699,\n",
       "       0.11672144, 0.12087755, 0.12524815, 0.129847  , 0.13468882,\n",
       "       0.13978936, 0.1451655 , 0.15083527, 0.15681794, 0.16313408,\n",
       "       0.16980562, 0.17685587, 0.18430959, 0.192193  , 0.20053375,\n",
       "       0.20936093, 0.21870493, 0.22859738, 0.23907086, 0.25015871,\n",
       "       0.26189453, 0.27431172, 0.28744274, 0.30131821, 0.31596579,\n",
       "       0.3314087 , 0.34766403, 0.36474058, 0.38263638, 0.40133571,\n",
       "       0.42080579, 0.44099301, 0.07192521, 0.07400536, 0.07617578,\n",
       "       0.07844158, 0.0808082 , 0.08328143, 0.08586751, 0.08857305,\n",
       "       0.09140517, 0.09437147, 0.09748009, 0.10073975, 0.1041598 ,\n",
       "       0.10775025, 0.11152185, 0.11548611, 0.11965538, 0.12404291,\n",
       "       0.12866291, 0.13353061, 0.13866233, 0.14407558, 0.14978909,\n",
       "       0.1558229 , 0.16219842, 0.16893851, 0.17606752, 0.18361131,\n",
       "       0.19159733, 0.20005456, 0.20901348, 0.07133662, 0.07342956,\n",
       "       0.07561462, 0.07789707, 0.08028256, 0.0827771 , 0.08538715,\n",
       "       0.0881196 , 0.09098185, 0.09398181, 0.09712797, 0.10042943,\n",
       "       0.10389597, 0.10753805, 0.11136693])"
      ]
     },
     "execution_count": 76,
     "metadata": {},
     "output_type": "execute_result"
    }
   ],
   "source": [
    "out = mod.fit(intensity, init_params, x=waves-w_0)\n",
    "out.init_fit"
   ]
  },
  {
   "cell_type": "code",
   "execution_count": 77,
   "metadata": {},
   "outputs": [
    {
     "data": {
      "text/html": [
       "<table><tr><th> name </th><th> value </th><th> standard error </th><th> relative error </th><th> initial value </th><th> min </th><th> max </th><th> vary </th><th> expression </th></tr><tr><td> amplitude </td><td>  0.34619037 </td><td>  7.9684e-08 </td><td> (0.00%) </td><td> 0.699801698423368 </td><td>        -inf </td><td>         inf </td><td> True </td><td>  </td></tr><tr><td> center </td><td> -0.02102233 </td><td>  3.0392e-07 </td><td> (0.00%) </td><td> -0.03297538393555534 </td><td>        -inf </td><td>         inf </td><td> True </td><td>  </td></tr><tr><td> sigma </td><td>  286.371469 </td><td>  0.28409491 </td><td> (0.10%) </td><td> 1.3502145777410988 </td><td>  0.00000000 </td><td>         inf </td><td> True </td><td>  </td></tr><tr><td> beta </td><td>  30877.8624 </td><td>  61.2621488 </td><td> (0.20%) </td><td> 1.0 </td><td>        -inf </td><td>         inf </td><td> True </td><td>  </td></tr><tr><td> fwhm </td><td>  2.71363416 </td><td>  7.1903e-07 </td><td> (0.00%) </td><td> 2.7004291554821975 </td><td>        -inf </td><td>         inf </td><td> False </td><td> 2*sigma*sqrt(2**(1.0/max(1e-3, beta))-1) </td></tr><tr><td> height </td><td>  0.34619037 </td><td>  7.9684e-08 </td><td> (0.00%) </td><td> 0.699801698423368 </td><td>        -inf </td><td>         inf </td><td> False </td><td> amplitude </td></tr></table>"
      ],
      "text/plain": [
       "Parameters([('amplitude', <Parameter 'amplitude', value=0.3461903666160259 +/- 7.97e-08, bounds=[-inf:inf]>), ('center', <Parameter 'center', value=-0.021022326470780308 +/- 3.04e-07, bounds=[-inf:inf]>), ('sigma', <Parameter 'sigma', value=286.37146883960406 +/- 0.284, bounds=[0.0:inf]>), ('beta', <Parameter 'beta', value=30877.862367474372 +/- 61.3, bounds=[-inf:inf]>), ('fwhm', <Parameter 'fwhm', value=2.7136341559640633 +/- 7.19e-07, bounds=[-inf:inf], expr='2*sigma*sqrt(2**(1.0/max(1e-3, beta))-1)'>), ('height', <Parameter 'height', value=0.3461903666160259 +/- 7.97e-08, bounds=[-inf:inf], expr='amplitude'>)])"
      ]
     },
     "execution_count": 77,
     "metadata": {},
     "output_type": "execute_result"
    }
   ],
   "source": [
    "out.params"
   ]
  },
  {
   "cell_type": "code",
   "execution_count": 78,
   "metadata": {},
   "outputs": [
    {
     "data": {
      "image/png": "[encoded data removed]",
      "text/plain": [
       "<Figure size 432x288 with 1 Axes>"
      ]
     },
     "metadata": {
      "needs_background": "light"
     },
     "output_type": "display_data"
    }
   ],
   "source": [
    "fig = plt.figure()\n",
    "ax = plt.axes()\n",
    "lsf_data.plot_line(nb_line, ax)\n",
    "ax.plot(waves-w_0, out.best_fit, '.', color='red')\n",
    "plt.show()"
   ]
  }
 ],
 "metadata": {
  "kernelspec": {
   "display_name": "Python 3.7.3 64-bit",
   "language": "python",
   "name": "python3"
  },
  "language_info": {
   "codemirror_mode": {
    "name": "ipython",
    "version": 3
   },
   "file_extension": ".py",
   "mimetype": "text/x-python",
   "name": "python",
   "nbconvert_exporter": "python",
   "pygments_lexer": "ipython3",
   "version": "3.7.3"
  },
  "orig_nbformat": 4,
  "vscode": {
   "interpreter": {
    "hash": "916dbcbb3f70747c44a77c7bcd40155683ae19c65e1c03b4aa3499c5328201f1"
   }
  }
 },
 "nbformat": 4,
 "nbformat_minor": 2
}
