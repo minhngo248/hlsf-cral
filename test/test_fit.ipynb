{
 "cells": [
  {
   "cell_type": "code",
   "execution_count": 41,
   "metadata": {},
   "outputs": [],
   "source": [
    "import numpy as np\n",
    "import matplotlib.pyplot as plt\n",
    "from hlsf.models import *\n",
    "%matplotlib qt"
   ]
  },
  {
   "cell_type": "code",
   "execution_count": 42,
   "metadata": {},
   "outputs": [],
   "source": [
    "config = 'H'\n",
    "lamp = 'Xe'\n",
    "nb_line = 100"
   ]
  },
  {
   "cell_type": "code",
   "execution_count": 43,
   "metadata": {},
   "outputs": [
    {
     "data": {
      "text/plain": [
       "dict_keys([225, 226, 227, 228, 229, 230, 231, 232, 233, 234, 235, 236, 237, 238])"
      ]
     },
     "execution_count": 43,
     "metadata": {},
     "output_type": "execute_result"
    }
   ],
   "source": [
    "## For lamp, model\n",
    "lsf_data = LSF_DATA(f\"../exposures/ARC-{lamp}_CLEAR_20MAS_{config}_PRM.fits\", f\"../text/{lamp}.txt\", f\"../exposures/WAVECAL_TABLE_20MAS_{config}.fits\", \n",
    "                        f\"../exposures/SLITLET_TABLE_20MAS_{config}.fits\", normal='Normal')\n",
    "lsf_data.get_line_list().keys()"
   ]
  },
  {
   "cell_type": "code",
   "execution_count": 44,
   "metadata": {},
   "outputs": [],
   "source": [
    "## For evaluating\n",
    "lsf1 = LSF_DATA(\"../exposures/ARC-linspace256_CLEAR_20MAS_H_PRM.fits\", \"../exposures/line_catalog_linspace256.fits\", \"../exposures/WAVECAL_TABLE_20MAS_H.fits\", \n",
    "                        \"../exposures/SLITLET_TABLE_20MAS_H.fits\", normal='Normal')"
   ]
  },
  {
   "cell_type": "code",
   "execution_count": 45,
   "metadata": {},
   "outputs": [
    {
     "data": {
      "text/plain": [
       "True"
      ]
     },
     "execution_count": 45,
     "metadata": {},
     "output_type": "execute_result"
    }
   ],
   "source": [
    "data = lsf1.get_data_line(nb_line)\n",
    "waves = data['map_wave']\n",
    "w_0 = data['waveline']\n",
    "lsf1 == lsf_data"
   ]
  },
  {
   "cell_type": "markdown",
   "metadata": {},
   "source": [
    "## Gaussian model, quite good"
   ]
  },
  {
   "cell_type": "code",
   "execution_count": 46,
   "metadata": {},
   "outputs": [
    {
     "name": "stdout",
     "output_type": "stream",
     "text": [
      "Destructor called\n"
     ]
    },
    {
     "data": {
      "text/plain": [
       "{'Amplitude': [0.9998456704266544, 9.21631739596086e-09],\n",
       " 'Mean': [-0.00032635637976211496, 6.853191888361663e-08],\n",
       " 'Sigma': [0.9308139627304847, 4.389461941384111e-06]}"
      ]
     },
     "execution_count": 46,
     "metadata": {},
     "output_type": "execute_result"
    }
   ],
   "source": [
    "mod = GAUSSIAN_MODEL_2(lsf_data)\n",
    "mod.write_json(f'../file/{str.lower(mod.__class__.__name__)}_{config}_{lamp}.json')\n",
    "mod._coeff"
   ]
  },
  {
   "cell_type": "code",
   "execution_count": 47,
   "metadata": {},
   "outputs": [],
   "source": [
    "fig = plt.figure()\n",
    "ax = plt.axes()\n",
    "plt.xlabel(\"wavelength\")\n",
    "plt.ylabel(\"RMS error\")\n",
    "lsf1.plot_line(nb_line, ax)\n",
    "mod.plot(w_0, waves, ax)\n",
    "plt.title(f'RMS error {mod.error_rms(lsf1, nb_line)}')\n",
    "plt.legend()\n",
    "plt.grid()\n",
    "plt.show()"
   ]
  },
  {
   "cell_type": "markdown",
   "metadata": {},
   "source": [
    "## Moffat\n",
    "- Take times\n",
    "- Overflow due to power of beta"
   ]
  },
  {
   "cell_type": "code",
   "execution_count": 48,
   "metadata": {},
   "outputs": [
    {
     "name": "stdout",
     "output_type": "stream",
     "text": [
      "Destructor called\n",
      "Destructor called\n"
     ]
    }
   ],
   "source": [
    "mod_moffat = MOFFAT_MODEL_2(lsf_data)\n",
    "mod_moffat.write_json(f'../file/{str.lower(mod_moffat.__class__.__name__)}_{config}_{lamp}.json')\n",
    "mod_moffat_1 = MOFFAT_MODEL.from_json(f'../file/moffat_model_{config}_{lamp}.json')"
   ]
  },
  {
   "cell_type": "code",
   "execution_count": 49,
   "metadata": {},
   "outputs": [
    {
     "data": {
      "text/plain": [
       "{'amplitude': [0.426747864654915, -1.7456825638859681e-06],\n",
       " 'center': [-0.0004323979895597993, 7.462556499397075e-08],\n",
       " 'sigma': [15.64425894255507, 2.3441457683782385e-06],\n",
       " 'beta': [140.1274037983086, -0.0010432065724326031]}"
      ]
     },
     "execution_count": 49,
     "metadata": {},
     "output_type": "execute_result"
    }
   ],
   "source": [
    "mod_moffat._coeff"
   ]
  },
  {
   "cell_type": "code",
   "execution_count": 50,
   "metadata": {},
   "outputs": [],
   "source": [
    "fig, axes = plt.subplots(4, 1)\n",
    "mod_moffat.plot_parameters(axes)\n",
    "mod_moffat_1.plot_parameters(axes)\n",
    "plt.xlabel(\"wavelength\")\n",
    "model = mod_moffat_1.__class__.__name__.replace('_',' ').capitalize()\n",
    "fig.suptitle(model) \n",
    "plt.legend()\n",
    "plt.show() "
   ]
  },
  {
   "cell_type": "code",
   "execution_count": 51,
   "metadata": {},
   "outputs": [
    {
     "data": {
      "text/plain": [
       "'MOFFAT_MODEL'"
      ]
     },
     "execution_count": 51,
     "metadata": {},
     "output_type": "execute_result"
    }
   ],
   "source": [
    "mod_moffat_1.__class__.__name__"
   ]
  },
  {
   "cell_type": "code",
   "execution_count": 52,
   "metadata": {},
   "outputs": [],
   "source": [
    "fig = plt.figure()\n",
    "ax = plt.axes()\n",
    "lsf1.plot_line(nb_line, ax)\n",
    "mod_moffat.plot(w_0, waves, ax)\n",
    "plt.grid()\n",
    "plt.legend(['Real data', 'Moffat popt'])\n",
    "plt.title(f'RMS error {mod_moffat.error_rms(lsf1, nb_line)}')\n",
    "plt.show()"
   ]
  },
  {
   "cell_type": "markdown",
   "metadata": {},
   "source": [
    "## Bad case for Gauss Hermite model\n",
    "- Need to add bounds to each parameter"
   ]
  },
  {
   "cell_type": "code",
   "execution_count": 53,
   "metadata": {},
   "outputs": [
    {
     "name": "stdout",
     "output_type": "stream",
     "text": [
      "Destructor called\n"
     ]
    }
   ],
   "source": [
    "mod_hermite_1 = GAUSS_HERMITE_MODEL(lsf_data, deg=11)\n",
    "mod_hermite_1.write_json(f'../file/{str.lower(mod_hermite_1.__class__.__name__)}_{config}_{lamp}.json')"
   ]
  },
  {
   "cell_type": "code",
   "execution_count": 54,
   "metadata": {},
   "outputs": [
    {
     "name": "stdout",
     "output_type": "stream",
     "text": [
      "Destructor called\n"
     ]
    },
    {
     "data": {
      "text/plain": [
       "{'Par0': [0.3400136006275718, -9.148043136207434e-07],\n",
       " 'Par1': [-0.0002459428334058918, 7.798720950115453e-09],\n",
       " 'Par2': [-0.03001952776583406, 1.96137458243727e-07],\n",
       " 'Par3': [8.257738003046198e-05, -1.6545155663732602e-09],\n",
       " 'Par4': [0.0012267647122183158, -9.704430246990447e-09],\n",
       " 'Par5': [-6.062044817633766e-06, 1.1479798132366285e-10],\n",
       " 'Par6': [-2.9805135758655813e-05, 2.494522328612287e-10],\n",
       " 'Par7': [2.1619989287125827e-07, -4.205982423333122e-12],\n",
       " 'Par8': [4.473043651300981e-07, -3.760968361464268e-12],\n",
       " 'Par9': [-4.272354585141895e-09, 8.583174108208993e-14],\n",
       " 'Par10': [-3.70661484529193e-09, 2.974152678464523e-14],\n",
       " 'Par11': [4.3840802822772216e-11, -7.672207860121974e-16]}"
      ]
     },
     "execution_count": 54,
     "metadata": {},
     "output_type": "execute_result"
    }
   ],
   "source": [
    "mod_hermite_2 = GAUSS_HERMITE_MODEL_2(lsf_data, deg=11)\n",
    "mod_hermite_2.write_json(f'../file/{str.lower(mod_hermite_2.__class__.__name__)}_{config}_{lamp}.json')\n",
    "mod_hermite_2._coeff"
   ]
  },
  {
   "cell_type": "code",
   "execution_count": 55,
   "metadata": {},
   "outputs": [],
   "source": [
    "mod_hermite_2.write_json(f'../file/{str.lower(mod_hermite_2.__class__.__name__)}_{config}_{lamp}.json')"
   ]
  },
  {
   "cell_type": "code",
   "execution_count": 9,
   "metadata": {},
   "outputs": [],
   "source": [
    "fig = plt.figure()\n",
    "ax = plt.axes()\n",
    "mod_hermite_1.plot_error_rms(lsf1, ax)\n",
    "mod_hermite_2.plot_error_rms(lsf1, ax)\n",
    "plt.grid()\n",
    "plt.legend(['Gauss Hermite linear', 'Gauss Hermite popt'])\n",
    "plt.show()"
   ]
  },
  {
   "cell_type": "code",
   "execution_count": 10,
   "metadata": {},
   "outputs": [],
   "source": [
    "fig = plt.figure()\n",
    "ax = plt.axes()\n",
    "lsf1.plot_line(nb_line, ax)\n",
    "mod_hermite_1.plot(w_0, waves, ax)\n",
    "mod_hermite_2.plot(w_0, waves, ax)\n",
    "plt.grid()\n",
    "plt.legend(['Real data', 'Gauss Hermite linear', 'Gauss Hermite popt'])\n",
    "plt.show()"
   ]
  },
  {
   "cell_type": "markdown",
   "metadata": {},
   "source": [
    "## Test case for numerous lamps"
   ]
  },
  {
   "cell_type": "code",
   "execution_count": 85,
   "metadata": {},
   "outputs": [],
   "source": [
    "lamps = [\"Ar\", \"Kr\", \"Ne\", \"Xe\"]\n",
    "config = 'HK'"
   ]
  },
  {
   "cell_type": "code",
   "execution_count": null,
   "metadata": {},
   "outputs": [],
   "source": [
    "for i in range(len(lamps)):\n",
    "    for j in range(i+1, len(lamps)):\n",
    "        lsf_data = [LSF_DATA(f'../exposures/ARC-{lamps[i]}_CLEAR_20MAS_{config}_PRM.fits', f\"../text/{lamps[i]}.txt\", f\"../exposures/WAVECAL_TABLE_20MAS_{config}.fits\", f\"../exposures/SLITLET_TABLE_20MAS_{config}.fits\", file_flat=f\"../exposures/FLAT-CONT2_CLEAR_20MAS_{config}_PRM.fits\"), \n",
    "            LSF_DATA(f'../exposures/ARC-{lamps[j]}_CLEAR_20MAS_{config}_PRM.fits', f\"../text/{lamps[j]}.txt\", f\"../exposures/WAVECAL_TABLE_20MAS_{config}.fits\", f\"../exposures/SLITLET_TABLE_20MAS_{config}.fits\", file_flat=f\"../exposures/FLAT-CONT2_CLEAR_20MAS_{config}_PRM.fits\")]\n",
    "        mod = GAUSSIAN_MODEL_2(lsf_data)\n",
    "        mod.write_json(f'{str.lower(mod.__class__.__name__)}_{config}_{lamps[i]}-{lamps[j]}.json')"
   ]
  },
  {
   "cell_type": "code",
   "execution_count": 86,
   "metadata": {},
   "outputs": [
    {
     "name": "stderr",
     "output_type": "stream",
     "text": [
      "/home/ngo/.local/lib/python3.7/site-packages/hlsf/models/lsf_data.py:80: RuntimeWarning: divide by zero encountered in true_divide\n",
      "  self._image = hdul['CHIP'+str(self.detID)+'.DATA'].data/hdul_flat['CHIP'+str(self.detID)+'.DATA'].data\n",
      "/home/ngo/.local/lib/python3.7/site-packages/hlsf/models/lsf_data.py:80: RuntimeWarning: invalid value encountered in true_divide\n",
      "  self._image = hdul['CHIP'+str(self.detID)+'.DATA'].data/hdul_flat['CHIP'+str(self.detID)+'.DATA'].data\n",
      "/home/ngo/.local/lib/python3.7/site-packages/hlsf/models/lsf_data.py:80: RuntimeWarning: divide by zero encountered in true_divide\n",
      "  self._image = hdul['CHIP'+str(self.detID)+'.DATA'].data/hdul_flat['CHIP'+str(self.detID)+'.DATA'].data\n",
      "/home/ngo/.local/lib/python3.7/site-packages/hlsf/models/lsf_data.py:80: RuntimeWarning: invalid value encountered in true_divide\n",
      "  self._image = hdul['CHIP'+str(self.detID)+'.DATA'].data/hdul_flat['CHIP'+str(self.detID)+'.DATA'].data\n",
      "/home/ngo/.local/lib/python3.7/site-packages/hlsf/models/lsf_data.py:80: RuntimeWarning: divide by zero encountered in true_divide\n",
      "  self._image = hdul['CHIP'+str(self.detID)+'.DATA'].data/hdul_flat['CHIP'+str(self.detID)+'.DATA'].data\n",
      "/home/ngo/.local/lib/python3.7/site-packages/hlsf/models/lsf_data.py:80: RuntimeWarning: invalid value encountered in true_divide\n",
      "  self._image = hdul['CHIP'+str(self.detID)+'.DATA'].data/hdul_flat['CHIP'+str(self.detID)+'.DATA'].data\n"
     ]
    }
   ],
   "source": [
    "mod_gauss = GAUSSIAN_MODEL_2.from_json('gaussian_model_2_HK_Ar-Kr.json')\n",
    "lsf1 = LSF_DATA(\"../exposures/ARC-linspace256_CLEAR_20MAS_HK_PRM.fits\", \"../exposures/line_catalog_linspace256.fits\", \"../exposures/WAVECAL_TABLE_20MAS_HK.fits\", \n",
    "                        \"../exposures/SLITLET_TABLE_20MAS_HK.fits\", file_flat=\"../exposures/FLAT-CONT2_CLEAR_20MAS_HK_PRM.fits\")"
   ]
  },
  {
   "cell_type": "code",
   "execution_count": 87,
   "metadata": {},
   "outputs": [
    {
     "data": {
      "text/plain": [
       "[9.425063227865992,\n",
       " -0.8463935870195247,\n",
       " -0.8371198276898448,\n",
       " 2.4152391630958827,\n",
       " 3.610295424929629,\n",
       " 0.012775119321503874]"
      ]
     },
     "execution_count": 87,
     "metadata": {},
     "output_type": "execute_result"
    }
   ],
   "source": [
    "mod_gauss._popt"
   ]
  },
  {
   "cell_type": "code",
   "execution_count": 89,
   "metadata": {},
   "outputs": [
    {
     "data": {
      "image/png": "[encoded data removed]",
      "text/plain": [
       "<Figure size 432x288 with 1 Axes>"
      ]
     },
     "metadata": {
      "needs_background": "light"
     },
     "output_type": "display_data"
    }
   ],
   "source": [
    "fig = plt.figure()\n",
    "ax = plt.axes()\n",
    "lsf1.plot_line(nb_line, ax)\n",
    "mod_gauss.plot(w_0, waves, ax)\n",
    "plt.grid()\n",
    "plt.legend([f'Real data line {nb_line}', 'fitted line'])\n",
    "plt.title(f'RMS error {mod_gauss.error_rms(lsf1, nb_line)}')\n",
    "plt.show()"
   ]
  }
 ],
 "metadata": {
  "kernelspec": {
   "display_name": "Python 3.7.3 64-bit",
   "language": "python",
   "name": "python3"
  },
  "language_info": {
   "codemirror_mode": {
    "name": "ipython",
    "version": 3
   },
   "file_extension": ".py",
   "mimetype": "text/x-python",
   "name": "python",
   "nbconvert_exporter": "python",
   "pygments_lexer": "ipython3",
   "version": "3.7.3"
  },
  "orig_nbformat": 4,
  "vscode": {
   "interpreter": {
    "hash": "916dbcbb3f70747c44a77c7bcd40155683ae19c65e1c03b4aa3499c5328201f1"
   }
  }
 },
 "nbformat": 4,
 "nbformat_minor": 2
}
