{
 "cells": [
  {
   "cell_type": "code",
   "execution_count": 1,
   "metadata": {},
   "outputs": [],
   "source": [
    "import numpy as np\n",
    "import matplotlib.pyplot as plt\n",
    "from hlsf.models import *\n",
    "%matplotlib qt"
   ]
  },
  {
   "cell_type": "code",
   "execution_count": 2,
   "metadata": {},
   "outputs": [],
   "source": [
    "config = 'H'\n",
    "lamp = 'Xe'\n",
    "nb_line = 100"
   ]
  },
  {
   "cell_type": "code",
   "execution_count": 3,
   "metadata": {},
   "outputs": [
    {
     "data": {
      "text/plain": [
       "dict_keys([225, 226, 227, 228, 229, 230, 231, 232, 233, 234, 235, 236, 237, 238])"
      ]
     },
     "execution_count": 3,
     "metadata": {},
     "output_type": "execute_result"
    }
   ],
   "source": [
    "## For lamp, model\n",
    "lsf_data = LSF_DATA(f\"../exposures/ARC-{lamp}_CLEAR_20MAS_{config}_PRM.fits\", f\"../text/{lamp}.txt\", f\"../exposures/WAVECAL_TABLE_20MAS_{config}.fits\", \n",
    "                        f\"../exposures/SLITLET_TABLE_20MAS_{config}.fits\", normal='Normal')\n",
    "lsf_data.get_line_list().keys()"
   ]
  },
  {
   "cell_type": "code",
   "execution_count": 4,
   "metadata": {},
   "outputs": [],
   "source": [
    "## For evaluating\n",
    "lsf1 = LSF_DATA(\"../exposures/ARC-linspace256_CLEAR_20MAS_H_PRM.fits\", \"../exposures/line_catalog_linspace256.fits\", \"../exposures/WAVECAL_TABLE_20MAS_H.fits\", \n",
    "                        \"../exposures/SLITLET_TABLE_20MAS_H.fits\", normal='Normal')"
   ]
  },
  {
   "cell_type": "code",
   "execution_count": 5,
   "metadata": {},
   "outputs": [
    {
     "data": {
      "text/plain": [
       "True"
      ]
     },
     "execution_count": 5,
     "metadata": {},
     "output_type": "execute_result"
    }
   ],
   "source": [
    "data = lsf1.get_data_line(nb_line)\n",
    "waves = data['map_wave']\n",
    "w_0 = data['waveline']\n",
    "lsf1 == lsf_data"
   ]
  },
  {
   "cell_type": "markdown",
   "metadata": {},
   "source": [
    "## Gaussian model, quite good"
   ]
  },
  {
   "cell_type": "code",
   "execution_count": 57,
   "metadata": {},
   "outputs": [
    {
     "name": "stdout",
     "output_type": "stream",
     "text": [
      "Destructor called\n"
     ]
    }
   ],
   "source": [
    "mod = GAUSSIAN_MODEL_2(lsf_data)\n",
    "mod.write_json(f'../file/gaussian_model_2_{config}_{lamp}.json')"
   ]
  },
  {
   "cell_type": "code",
   "execution_count": 33,
   "metadata": {},
   "outputs": [],
   "source": [
    "fig = plt.figure()\n",
    "ax = plt.axes()\n",
    "plt.xlabel(\"wavelength\")\n",
    "plt.ylabel(\"RMS error\")\n",
    "lsf1.plot_line(nb_line, ax)\n",
    "mod.plot(w_0, waves, ax)\n",
    "plt.legend([f'Real data', 'fitted line'])\n",
    "plt.title(f'RMS error {mod.error_rms(lsf1, nb_line)}')\n",
    "plt.grid()\n",
    "plt.show()"
   ]
  },
  {
   "cell_type": "markdown",
   "metadata": {},
   "source": [
    "## Moffat\n",
    "- Take times\n",
    "- Overflow due to poaer of beta"
   ]
  },
  {
   "cell_type": "code",
   "execution_count": 46,
   "metadata": {},
   "outputs": [
    {
     "ename": "FileNotFoundError",
     "evalue": "[Errno 2] No such file or directory: 'moffat_model_2.json'",
     "output_type": "error",
     "traceback": [
      "\u001b[0;31m---------------------------------------------------------------------------\u001b[0m",
      "\u001b[0;31mFileNotFoundError\u001b[0m                         Traceback (most recent call last)",
      "\u001b[0;32m<ipython-input-46-48111d98fb5f>\u001b[0m in \u001b[0;36m<module>\u001b[0;34m\u001b[0m\n\u001b[0;32m----> 1\u001b[0;31m \u001b[0mmod_moffat_2\u001b[0m \u001b[0;34m=\u001b[0m \u001b[0mMOFFAT_MODEL_2\u001b[0m\u001b[0;34m.\u001b[0m\u001b[0mfrom_json\u001b[0m\u001b[0;34m(\u001b[0m\u001b[0;34m'moffat_model_2.json'\u001b[0m\u001b[0;34m)\u001b[0m\u001b[0;34m\u001b[0m\u001b[0;34m\u001b[0m\u001b[0m\n\u001b[0m",
      "\u001b[0;32m~/.local/lib/python3.7/site-packages/hlsf/models/lsf_model_2.py\u001b[0m in \u001b[0;36mfrom_json\u001b[0;34m(obj, filename)\u001b[0m\n\u001b[1;32m     89\u001b[0m                     \u001b[0mex\u001b[0m \u001b[0;34m:\u001b[0m \u001b[0mgaussian_model_H_Xe\u001b[0m\u001b[0;34m.\u001b[0m\u001b[0mjson\u001b[0m\u001b[0;34m\u001b[0m\u001b[0;34m\u001b[0m\u001b[0m\n\u001b[1;32m     90\u001b[0m         \"\"\"\n\u001b[0;32m---> 91\u001b[0;31m         \u001b[0;32mwith\u001b[0m \u001b[0mopen\u001b[0m\u001b[0;34m(\u001b[0m\u001b[0mfilename\u001b[0m\u001b[0;34m,\u001b[0m \u001b[0;34m'r'\u001b[0m\u001b[0;34m)\u001b[0m \u001b[0;32mas\u001b[0m \u001b[0mf\u001b[0m\u001b[0;34m:\u001b[0m\u001b[0;34m\u001b[0m\u001b[0;34m\u001b[0m\u001b[0m\n\u001b[0m\u001b[1;32m     92\u001b[0m             \u001b[0mdata\u001b[0m \u001b[0;34m=\u001b[0m \u001b[0mjson\u001b[0m\u001b[0;34m.\u001b[0m\u001b[0mload\u001b[0m\u001b[0;34m(\u001b[0m\u001b[0mf\u001b[0m\u001b[0;34m)\u001b[0m\u001b[0;34m\u001b[0m\u001b[0;34m\u001b[0m\u001b[0m\n\u001b[1;32m     93\u001b[0m         \u001b[0mdic_lsf_data\u001b[0m \u001b[0;34m=\u001b[0m \u001b[0mdata\u001b[0m\u001b[0;34m[\u001b[0m\u001b[0;34m'lsf_data'\u001b[0m\u001b[0;34m]\u001b[0m\u001b[0;34m\u001b[0m\u001b[0;34m\u001b[0m\u001b[0m\n",
      "\u001b[0;31mFileNotFoundError\u001b[0m: [Errno 2] No such file or directory: 'moffat_model_2.json'"
     ]
    }
   ],
   "source": [
    "mod_moffat_2 = MOFFAT_MODEL_2.from_json('moffat_model_2.json')"
   ]
  },
  {
   "cell_type": "code",
   "execution_count": 81,
   "metadata": {},
   "outputs": [
    {
     "data": {
      "image/png": "[encoded data removed]",
      "text/plain": [
       "<Figure size 432x288 with 1 Axes>"
      ]
     },
     "metadata": {
      "needs_background": "light"
     },
     "output_type": "display_data"
    }
   ],
   "source": [
    "fig = plt.figure()\n",
    "ax = plt.axes()\n",
    "lsf1.plot_line(nb_line, ax)\n",
    "mod_moffat_2.plot(w_0, waves, ax)\n",
    "plt.grid()\n",
    "plt.legend(['Real data', 'Moffat popt'])\n",
    "plt.title(f'RMS error {mod_moffat_2.error_rms(lsf1, nb_line)}')\n",
    "plt.show()"
   ]
  },
  {
   "cell_type": "code",
   "execution_count": 25,
   "metadata": {},
   "outputs": [
    {
     "data": {
      "text/plain": [
       "0.005905236566995339"
      ]
     },
     "execution_count": 25,
     "metadata": {},
     "output_type": "execute_result"
    }
   ],
   "source": [
    "mod_moffat_2.error_rms(lsf1, nb_line)"
   ]
  },
  {
   "cell_type": "markdown",
   "metadata": {},
   "source": [
    "## Bad case for Gauss Hermite model\n",
    "- Need to add bounds to each parameter"
   ]
  },
  {
   "cell_type": "code",
   "execution_count": 7,
   "metadata": {},
   "outputs": [
    {
     "name": "stdout",
     "output_type": "stream",
     "text": [
      "Destructor called\n"
     ]
    }
   ],
   "source": [
    "mod_hermite_1 = GAUSS_HERMITE_MODEL(lsf_data, deg=11)\n",
    "mod_hermite_1.write_json(f'../file/{str.lower(mod_hermite_1.__class__.__name__)}_{config}_{lamp}.json')"
   ]
  },
  {
   "cell_type": "code",
   "execution_count": 8,
   "metadata": {},
   "outputs": [
    {
     "data": {
      "text/plain": [
       "array([ 3.40013601e-01, -9.14804314e-07, -2.45942833e-04,  7.79872095e-09,\n",
       "       -3.00195278e-02,  1.96137458e-07,  8.25773800e-05, -1.65451557e-09,\n",
       "        1.22676471e-03, -9.70443025e-09, -6.06204482e-06,  1.14797981e-10,\n",
       "       -2.98051358e-05,  2.49452233e-10,  2.16199893e-07, -4.20598242e-12,\n",
       "        4.47304365e-07, -3.76096836e-12, -4.27235459e-09,  8.58317411e-14,\n",
       "       -3.70661485e-09,  2.97415268e-14,  4.38408028e-11, -7.67220786e-16])"
      ]
     },
     "execution_count": 8,
     "metadata": {},
     "output_type": "execute_result"
    }
   ],
   "source": [
    "mod_hermite_2 = GAUSS_HERMITE_MODEL_2(lsf_data, deg=11)\n",
    "mod_hermite_2._coeff"
   ]
  },
  {
   "cell_type": "code",
   "execution_count": 9,
   "metadata": {},
   "outputs": [],
   "source": [
    "mod_hermite_2.write_json(f'../file/{str.lower(mod_hermite_2.__class__.__name__)}_{config}_{lamp}.json')"
   ]
  },
  {
   "cell_type": "code",
   "execution_count": 10,
   "metadata": {},
   "outputs": [],
   "source": [
    "fig = plt.figure()\n",
    "ax = plt.axes()\n",
    "mod_hermite_1.plot_error_rms(lsf1, ax)\n",
    "mod_hermite_2.plot_error_rms(lsf1, ax)\n",
    "plt.grid()\n",
    "plt.legend(['Gauss Hermite linear', 'Gauss Hermite popt'])\n",
    "plt.show()"
   ]
  },
  {
   "cell_type": "code",
   "execution_count": 11,
   "metadata": {},
   "outputs": [],
   "source": [
    "fig = plt.figure()\n",
    "ax = plt.axes()\n",
    "lsf1.plot_line(nb_line, ax)\n",
    "mod_hermite_1.plot(w_0, waves, ax)\n",
    "mod_hermite_2.plot(w_0, waves, ax)\n",
    "plt.grid()\n",
    "plt.legend(['Real data', 'Gauss Hermite linear', 'Gauss Hermite popt'])\n",
    "plt.show()"
   ]
  },
  {
   "cell_type": "markdown",
   "metadata": {},
   "source": [
    "## Test case for numerous lamps"
   ]
  },
  {
   "cell_type": "code",
   "execution_count": 85,
   "metadata": {},
   "outputs": [],
   "source": [
    "lamps = [\"Ar\", \"Kr\", \"Ne\", \"Xe\"]\n",
    "config = 'HK'"
   ]
  },
  {
   "cell_type": "code",
   "execution_count": null,
   "metadata": {},
   "outputs": [],
   "source": [
    "for i in range(len(lamps)):\n",
    "    for j in range(i+1, len(lamps)):\n",
    "        lsf_data = [LSF_DATA(f'../exposures/ARC-{lamps[i]}_CLEAR_20MAS_{config}_PRM.fits', f\"../text/{lamps[i]}.txt\", f\"../exposures/WAVECAL_TABLE_20MAS_{config}.fits\", f\"../exposures/SLITLET_TABLE_20MAS_{config}.fits\", file_flat=f\"../exposures/FLAT-CONT2_CLEAR_20MAS_{config}_PRM.fits\"), \n",
    "            LSF_DATA(f'../exposures/ARC-{lamps[j]}_CLEAR_20MAS_{config}_PRM.fits', f\"../text/{lamps[j]}.txt\", f\"../exposures/WAVECAL_TABLE_20MAS_{config}.fits\", f\"../exposures/SLITLET_TABLE_20MAS_{config}.fits\", file_flat=f\"../exposures/FLAT-CONT2_CLEAR_20MAS_{config}_PRM.fits\")]\n",
    "        mod = GAUSSIAN_MODEL_2(lsf_data)\n",
    "        mod.write_json(f'{str.lower(mod.__class__.__name__)}_{config}_{lamps[i]}-{lamps[j]}.json')"
   ]
  },
  {
   "cell_type": "code",
   "execution_count": 86,
   "metadata": {},
   "outputs": [
    {
     "name": "stderr",
     "output_type": "stream",
     "text": [
      "/home/ngo/.local/lib/python3.7/site-packages/hlsf/models/lsf_data.py:80: RuntimeWarning: divide by zero encountered in true_divide\n",
      "  self._image = hdul['CHIP'+str(self.detID)+'.DATA'].data/hdul_flat['CHIP'+str(self.detID)+'.DATA'].data\n",
      "/home/ngo/.local/lib/python3.7/site-packages/hlsf/models/lsf_data.py:80: RuntimeWarning: invalid value encountered in true_divide\n",
      "  self._image = hdul['CHIP'+str(self.detID)+'.DATA'].data/hdul_flat['CHIP'+str(self.detID)+'.DATA'].data\n",
      "/home/ngo/.local/lib/python3.7/site-packages/hlsf/models/lsf_data.py:80: RuntimeWarning: divide by zero encountered in true_divide\n",
      "  self._image = hdul['CHIP'+str(self.detID)+'.DATA'].data/hdul_flat['CHIP'+str(self.detID)+'.DATA'].data\n",
      "/home/ngo/.local/lib/python3.7/site-packages/hlsf/models/lsf_data.py:80: RuntimeWarning: invalid value encountered in true_divide\n",
      "  self._image = hdul['CHIP'+str(self.detID)+'.DATA'].data/hdul_flat['CHIP'+str(self.detID)+'.DATA'].data\n",
      "/home/ngo/.local/lib/python3.7/site-packages/hlsf/models/lsf_data.py:80: RuntimeWarning: divide by zero encountered in true_divide\n",
      "  self._image = hdul['CHIP'+str(self.detID)+'.DATA'].data/hdul_flat['CHIP'+str(self.detID)+'.DATA'].data\n",
      "/home/ngo/.local/lib/python3.7/site-packages/hlsf/models/lsf_data.py:80: RuntimeWarning: invalid value encountered in true_divide\n",
      "  self._image = hdul['CHIP'+str(self.detID)+'.DATA'].data/hdul_flat['CHIP'+str(self.detID)+'.DATA'].data\n"
     ]
    }
   ],
   "source": [
    "mod_gauss = GAUSSIAN_MODEL_2.from_json('gaussian_model_2_HK_Ar-Kr.json')\n",
    "lsf1 = LSF_DATA(\"../exposures/ARC-linspace256_CLEAR_20MAS_HK_PRM.fits\", \"../exposures/line_catalog_linspace256.fits\", \"../exposures/WAVECAL_TABLE_20MAS_HK.fits\", \n",
    "                        \"../exposures/SLITLET_TABLE_20MAS_HK.fits\", file_flat=\"../exposures/FLAT-CONT2_CLEAR_20MAS_HK_PRM.fits\")"
   ]
  },
  {
   "cell_type": "code",
   "execution_count": 87,
   "metadata": {},
   "outputs": [
    {
     "data": {
      "text/plain": [
       "[9.425063227865992,\n",
       " -0.8463935870195247,\n",
       " -0.8371198276898448,\n",
       " 2.4152391630958827,\n",
       " 3.610295424929629,\n",
       " 0.012775119321503874]"
      ]
     },
     "execution_count": 87,
     "metadata": {},
     "output_type": "execute_result"
    }
   ],
   "source": [
    "mod_gauss._popt"
   ]
  },
  {
   "cell_type": "code",
   "execution_count": 89,
   "metadata": {},
   "outputs": [
    {
     "data": {
      "image/png": "[encoded data removed]",
      "text/plain": [
       "<Figure size 432x288 with 1 Axes>"
      ]
     },
     "metadata": {
      "needs_background": "light"
     },
     "output_type": "display_data"
    }
   ],
   "source": [
    "fig = plt.figure()\n",
    "ax = plt.axes()\n",
    "lsf1.plot_line(nb_line, ax)\n",
    "mod_gauss.plot(w_0, waves, ax)\n",
    "plt.grid()\n",
    "plt.legend([f'Real data line {nb_line}', 'fitted line'])\n",
    "plt.title(f'RMS error {mod_gauss.error_rms(lsf1, nb_line)}')\n",
    "plt.show()"
   ]
  }
 ],
 "metadata": {
  "kernelspec": {
   "display_name": "Python 3.7.3 64-bit",
   "language": "python",
   "name": "python3"
  },
  "language_info": {
   "codemirror_mode": {
    "name": "ipython",
    "version": 3
   },
   "file_extension": ".py",
   "mimetype": "text/x-python",
   "name": "python",
   "nbconvert_exporter": "python",
   "pygments_lexer": "ipython3",
   "version": "3.7.3"
  },
  "orig_nbformat": 4,
  "vscode": {
   "interpreter": {
    "hash": "916dbcbb3f70747c44a77c7bcd40155683ae19c65e1c03b4aa3499c5328201f1"
   }
  }
 },
 "nbformat": 4,
 "nbformat_minor": 2
}
